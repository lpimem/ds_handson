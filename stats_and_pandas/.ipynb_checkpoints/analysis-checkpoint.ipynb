{
 "cells": [
  {
   "cell_type": "markdown",
   "metadata": {},
   "source": [
    "# Stats and Pandas\n",
    "\n",
    "This is a set of \n",
    "\n",
    "### Question 1"
   ]
  },
  {
   "cell_type": "code",
   "execution_count": 1,
   "metadata": {
    "collapsed": false
   },
   "outputs": [
    {
     "name": "stdout",
     "output_type": "stream",
     "text": [
      "[ 1.05775971  2.05804281  1.44727118  3.25222951  0.84946807]\n",
      "- - - - - - - - - - \n",
      "original: \r\n",
      " [[-0.57878784  1.3134397  -0.83702209 -0.29250295  0.33689199]\n",
      " [-1.05775971 -2.05804281 -1.44727118 -0.52278694  0.22666959]\n",
      " [ 0.02132802 -0.93690481 -0.21482665  3.25222951 -0.84946807]\n",
      " [-0.80761664  0.83341238  1.04877157  0.51686199 -0.11582095]\n",
      " [ 0.60059674 -1.02683565  1.18049432  0.90434177 -0.81024208]]\n",
      "\n",
      "rescaled: \r\n",
      " [[ 0.28882323  1.          0.23223118  0.06100211  1.        ]\n",
      " [ 0.          0.          0.          0.          0.90709195]\n",
      " [ 0.6506971   0.33253561  0.46900857  1.          0.        ]\n",
      " [ 0.15083794  0.85762129  0.94987272  0.27540249  0.61840174]\n",
      " [ 1.          0.30586164  1.          0.37804569  0.03306415]]\n",
      "- - - - - - - - - - \n"
     ]
    }
   ],
   "source": [
    "import numpy as np\n",
    "%matplotlib inline\n",
    "import matplotlib.pyplot as plt\n",
    "# create a 5x5 numpy matrix with random numbers\n",
    "data = np.random.randn(5,5)\n",
    "# 1.a \n",
    "rescaled_data = (data - np.min(data, axis = 0)) / (np.max(data, axis = 0) - np.min(data, axis = 0))\n",
    "\n",
    "print(np.max(np.abs(data), axis=0))\n",
    "\n",
    "print(\"- \" * 10)\n",
    "print(\"original: \\r\\n\", data)\n",
    "print(\"\")\n",
    "print(\"rescaled: \\r\\n\", rescaled_data)\n",
    "print(\"- \" * 10)"
   ]
  },
  {
   "cell_type": "code",
   "execution_count": 2,
   "metadata": {
    "collapsed": false
   },
   "outputs": [
    {
     "name": "stdout",
     "output_type": "stream",
     "text": [
      "- - - - - - - - - - \n",
      "original: \r\n",
      " [[-0.57878784  1.3134397  -0.83702209 -0.29250295  0.33689199]\n",
      " [-1.05775971 -2.05804281 -1.44727118 -0.52278694  0.22666959]\n",
      " [ 0.02132802 -0.93690481 -0.21482665  3.25222951 -0.84946807]\n",
      " [-0.80761664  0.83341238  1.04877157  0.51686199 -0.11582095]\n",
      " [ 0.60059674 -1.02683565  1.18049432  0.90434177 -0.81024208]]\n",
      "\n",
      "standardized : \r\n",
      " [[-0.35692053  1.34457211 -0.75911606 -0.79123445  1.15277453]\n",
      " [-1.15450815 -1.34029624 -1.3507119  -0.96246197  0.93343278]\n",
      " [ 0.64239699 -0.4474819  -0.15593903  1.84444929 -1.20807298]\n",
      " [-0.73796799  0.96230403  1.06903528 -0.18943162  0.25187923]\n",
      " [ 1.60699969 -0.519098    1.1967317   0.09867874 -1.13001356]]\n",
      "- - - - - - - - - - \n"
     ]
    }
   ],
   "source": [
    "# 1.b \n",
    "mean = np.mean(data, axis = 0)\n",
    "std = np.std(data, axis = 0)\n",
    "standardized_data = (data - mean) / std\n",
    "print(\"- \" * 10)\n",
    "print(\"original: \\r\\n\", data)\n",
    "print(\"\")\n",
    "print(\"standardized : \\r\\n\", standardized_data)\n",
    "print(\"- \" * 10)"
   ]
  },
  {
   "cell_type": "markdown",
   "metadata": {},
   "source": [
    "### Question 2"
   ]
  },
  {
   "cell_type": "code",
   "execution_count": 3,
   "metadata": {
    "collapsed": false
   },
   "outputs": [
    {
     "name": "stderr",
     "output_type": "stream",
     "text": [
      "/home/vagrant/anaconda3/lib/python3.5/site-packages/IPython/core/interactiveshell.py:2723: DtypeWarning: Columns (8) have mixed types. Specify dtype option on import or set low_memory=False.\n",
      "  interactivity=interactivity, compiler=compiler, result=result)\n"
     ]
    }
   ],
   "source": [
    "import pandas\n",
    "data = pandas.read_csv(\"311-service-requests.csv\")"
   ]
  },
  {
   "cell_type": "code",
   "execution_count": 4,
   "metadata": {
    "collapsed": false
   },
   "outputs": [],
   "source": [
    "# noise_complaints = data[data['Complaint Type'].str.contains('Noise')].groupby([\"Borough\"])['Complaint Type'].count()\n",
    "# parking_complaints = data[data['Complaint Type'].str.contains('Parking')].groupby([\"Borough\"])['Complaint Type'].count()\n",
    "\n",
    "noise_complaints = data[data['Complaint Type'].str.contains('Noise')]['Borough'].value_counts()\n",
    "parking_complaints = data[data['Complaint Type'].str.contains('Parking')]['Borough'].value_counts() \n",
    "\n",
    "# as Borough values for both noise and parking are in the same order, \n",
    "# we can just use one set of the keys as the label.\n",
    "labels = parking_complaints.to_dict().keys()\n",
    "noise_values = noise_complaints.to_dict().values()\n",
    "parking_values = parking_complaints.to_dict().values()\n"
   ]
  },
  {
   "cell_type": "code",
   "execution_count": 5,
   "metadata": {
    "collapsed": false
   },
   "outputs": [
    {
     "data": {
      "text/plain": [
       "<module 'matplotlib.pyplot' from '/home/vagrant/anaconda3/lib/python3.5/site-packages/matplotlib/pyplot.py'>"
      ]
     },
     "execution_count": 5,
     "metadata": {},
     "output_type": "execute_result"
    },
    {
     "data": {
      "image/png": "[encoded data removed]",
      "text/plain": [
       "<matplotlib.figure.Figure at 0x7f2070584a58>"
      ]
     },
     "metadata": {},
     "output_type": "display_data"
    }
   ],
   "source": [
    "def b_barchart(data_1, data_2, label_1, label_2, xticks, title='BarChart', xlabel='X', ylabel='Y'):\n",
    "    \"\"\"\n",
    "        referene: http://matplotlib.org/examples/pylab_examples/barchart_demo.html\n",
    "    \"\"\"\n",
    "    n_groups = len(xticks)\n",
    "    fig, ax = plt.subplots()\n",
    "    index = np.arange(n_groups)\n",
    "    b_width = 0.25\n",
    "    opacity = 0.7\n",
    "    # set colors : http://matplotlib.org/api/colors_api.html\n",
    "    color_1 = '#1DC190'\n",
    "    color_2 = '#B266FF'\n",
    "    # draw sub plots\n",
    "    r1 = plt.bar(index, data_1, b_width, alpha=opacity, color=color_1,\n",
    "                label=label_1)\n",
    "    r2 = plt.bar(index + b_width, data_2, b_width, alpha=opacity, color=color_2,\n",
    "                label=label_2)\n",
    "    \n",
    "    plt.xlabel(xlabel)\n",
    "    plt.ylabel(ylabel)\n",
    "    plt.title(title)\n",
    "    plt.xticks(index + b_width, tuple(xticks), rotation='45')\n",
    "    plt.legend()\n",
    "    plt.tight_layout()\n",
    "    return plt\n",
    "\n",
    "b_barchart(noise_values, parking_values, \"Noise\", \"Parking\", labels,\n",
    "          xlabel=\"Borough\", ylabel=\"complaint count\")"
   ]
  },
  {
   "cell_type": "markdown",
   "metadata": {},
   "source": [
    "### Question 3 \n",
    "#### 3.a"
   ]
  },
  {
   "cell_type": "code",
   "execution_count": 6,
   "metadata": {
    "collapsed": false
   },
   "outputs": [],
   "source": [
    "weather_data = pandas.read_csv(\"weather_2012.csv\", parse_dates=True, index_col=\"Date/Time\")"
   ]
  },
  {
   "cell_type": "code",
   "execution_count": 7,
   "metadata": {
    "collapsed": false
   },
   "outputs": [
    {
     "data": {
      "text/plain": [
       "<matplotlib.axes._subplots.AxesSubplot at 0x7f2049f3c1d0>"
      ]
     },
     "execution_count": 7,
     "metadata": {},
     "output_type": "execute_result"
    },
    {
     "data": {
      "image/png": "[encoded data removed]",
      "text/plain": [
       "<matplotlib.figure.Figure at 0x7f2049f27c50>"
      ]
     },
     "metadata": {},
     "output_type": "display_data"
    }
   ],
   "source": [
    "# weather_data[\"Date/Time\"]\n",
    "avg = weather_data[\"Temp (C)\"].resample(\"M\").mean()\n",
    "avg.plot()"
   ]
  },
  {
   "cell_type": "markdown",
   "metadata": {},
   "source": [
    "#### 3.b"
   ]
  },
  {
   "cell_type": "code",
   "execution_count": 8,
   "metadata": {
    "collapsed": false
   },
   "outputs": [
    {
     "name": "stderr",
     "output_type": "stream",
     "text": [
      "/home/vagrant/anaconda3/lib/python3.5/site-packages/scipy/optimize/minpack.py:161: RuntimeWarning: The iteration is not making good progress, as measured by the \n",
      "  improvement from the last ten iterations.\n",
      "  warnings.warn(msg, RuntimeWarning)\n"
     ]
    },
    {
     "data": {
      "image/png": "[encoded data removed]",
      "text/plain": [
       "<matplotlib.figure.Figure at 0x7f2049a298d0>"
      ]
     },
     "metadata": {},
     "output_type": "display_data"
    }
   ],
   "source": [
    "import scipy\n",
    "from scipy.stats import norm\n",
    "from scipy.stats import beta\n",
    "from scipy.stats import lognorm\n",
    "\n",
    "wind_data = np.array(weather_data[\"Wind Spd (km/h)\"].tolist())\n",
    "data_count = len(wind_data)\n",
    "n_bins = 10\n",
    "n, bins, patches = plt.hist(wind_data, n_bins, normed=1, alpha=0.75)\n",
    "\n",
    "# print(n, bins, patches)\n",
    "\n",
    "stats = {\n",
    "    \"norm\": norm,\n",
    "    \"beta\": beta,\n",
    "    \"lognorm\": lognorm    \n",
    "}\n",
    "for dis_name, dis in stats.items():\n",
    "    result = dis.fit(wind_data)\n",
    "    (loc, scale) = result[-2:]\n",
    "    pdf = dis.pdf(scipy.arange(max(bins)), *result[:-2], loc=loc, scale=scale)\n",
    "    plt.plot(pdf, label=dis_name)\n",
    "    plt.xlim(min(bins), max(bins))\n",
    "    plt.legend(loc='best')"
   ]
  }
 ],
 "metadata": {
  "anaconda-cloud": {},
  "kernelspec": {
   "display_name": "Python [conda root]",
   "language": "python",
   "name": "conda-root-py"
  },
  "language_info": {
   "codemirror_mode": {
    "name": "ipython",
    "version": 3
   },
   "file_extension": ".py",
   "mimetype": "text/x-python",
   "name": "python",
   "nbconvert_exporter": "python",
   "pygments_lexer": "ipython3",
   "version": "3.5.2"
  }
 },
 "nbformat": 4,
 "nbformat_minor": 0
}
